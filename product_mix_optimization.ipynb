{
 "cells": [
  {
   "cell_type": "markdown",
   "id": "56a53afb",
   "metadata": {},
   "source": [
    "## Step 1: Import Required Libraries\n",
    "\n",
    "We import `pandas` for data handling, `PuLP` for building the linear programming model, and `matplotlib` for visualizing the results.\n"
   ]
  },
  {
   "cell_type": "code",
   "execution_count": 12,
   "id": "a86e2508",
   "metadata": {},
   "outputs": [],
   "source": [
    "import pandas as pd\n",
    "from pulp import LpProblem, LpMaximize, LpVariable, lpSum, LpStatus, value\n",
    "\n",
    "\n"
   ]
  },
  {
   "cell_type": "code",
   "execution_count": 13,
   "id": "5456e043",
   "metadata": {},
   "outputs": [
    {
     "data": {
      "text/html": [
       "<div>\n",
       "<style scoped>\n",
       "    .dataframe tbody tr th:only-of-type {\n",
       "        vertical-align: middle;\n",
       "    }\n",
       "\n",
       "    .dataframe tbody tr th {\n",
       "        vertical-align: top;\n",
       "    }\n",
       "\n",
       "    .dataframe thead th {\n",
       "        text-align: right;\n",
       "    }\n",
       "</style>\n",
       "<table border=\"1\" class=\"dataframe\">\n",
       "  <thead>\n",
       "    <tr style=\"text-align: right;\">\n",
       "      <th></th>\n",
       "      <th>Product</th>\n",
       "      <th>Profit</th>\n",
       "      <th>Material</th>\n",
       "      <th>Labor</th>\n",
       "      <th>MaxProduction</th>\n",
       "    </tr>\n",
       "  </thead>\n",
       "  <tbody>\n",
       "    <tr>\n",
       "      <th>0</th>\n",
       "      <td>A</td>\n",
       "      <td>30</td>\n",
       "      <td>5</td>\n",
       "      <td>6</td>\n",
       "      <td>100</td>\n",
       "    </tr>\n",
       "    <tr>\n",
       "      <th>1</th>\n",
       "      <td>B</td>\n",
       "      <td>20</td>\n",
       "      <td>4</td>\n",
       "      <td>3</td>\n",
       "      <td>80</td>\n",
       "    </tr>\n",
       "    <tr>\n",
       "      <th>2</th>\n",
       "      <td>C</td>\n",
       "      <td>40</td>\n",
       "      <td>7</td>\n",
       "      <td>5</td>\n",
       "      <td>60</td>\n",
       "    </tr>\n",
       "  </tbody>\n",
       "</table>\n",
       "</div>"
      ],
      "text/plain": [
       "  Product  Profit  Material  Labor  MaxProduction\n",
       "0       A      30         5      6            100\n",
       "1       B      20         4      3             80\n",
       "2       C      40         7      5             60"
      ]
     },
     "execution_count": 13,
     "metadata": {},
     "output_type": "execute_result"
    }
   ],
   "source": [
    "df = pd.read_csv(\"data4.csv\")  # Make sure the file is in the same folder as your notebook\n",
    "df.head()  # This will show the first few rows of the CSV file\n"
   ]
  },
  {
   "cell_type": "markdown",
   "id": "1e9616d8",
   "metadata": {},
   "source": [
    "## Step 2: Load Dataset\n",
    "\n",
    "We load the dataset `data4.csv`, which contains product names and resource usage.\n"
   ]
  },
  {
   "cell_type": "code",
   "execution_count": 14,
   "id": "6bb9b218",
   "metadata": {},
   "outputs": [
    {
     "name": "stderr",
     "output_type": "stream",
     "text": [
      "c:\\Users\\hp\\AppData\\Local\\Programs\\Python\\Python310\\lib\\site-packages\\pulp\\pulp.py:1455: UserWarning: Spaces are not permitted in the name. Converted to '_'\n",
      "  warnings.warn(\"Spaces are not permitted in the name. Converted to '_'\")\n"
     ]
    }
   ],
   "source": [
    "model = LpProblem(\"Product Mix Optimization\", LpMaximize)\n",
    "products = df['Product'].tolist()\n",
    "decision_vars = LpVariable.dicts(\"Produce\", products, lowBound=0, cat='Integer')\n"
   ]
  },
  {
   "cell_type": "markdown",
   "id": "a8a56662",
   "metadata": {},
   "source": [
    "## Step 3: Define the Optimization Problem\n",
    "\n",
    "We define a maximization problem using PuLP. This sets up the structure of the model we want to solve.\n"
   ]
  },
  {
   "cell_type": "code",
   "execution_count": 15,
   "id": "3a1eb780",
   "metadata": {},
   "outputs": [],
   "source": [
    "# Objective\n",
    "model += lpSum(decision_vars[p] * df.loc[df['Product'] == p, 'Profit'].values[0] for p in products), \"Total_Profit\"\n",
    "\n",
    "# Material Constraint\n",
    "model += lpSum(decision_vars[p] * df.loc[df['Product'] == p, 'Material'].values[0] for p in products) <= 1000, \"Material_Constraint\"\n",
    "\n",
    "# Labor Constraint\n",
    "model += lpSum(decision_vars[p] * df.loc[df['Product'] == p, 'Labor'].values[0] for p in products) <= 1200, \"Labor_Constraint\"\n",
    "\n",
    "# Max Production\n",
    "for p in products:\n",
    "    model += decision_vars[p] <= df.loc[df['Product'] == p, 'MaxProduction'].values[0], f\"MaxProduction_{p}\"\n"
   ]
  },
  {
   "cell_type": "markdown",
   "id": "bb389f37",
   "metadata": {},
   "source": [
    "## Step 4: Add Objective Function and Constraints\n",
    "\n",
    "We add:\n",
    "- The **objective function** to maximize total profit.\n",
    "- **Constraints** to limit total usage of material and labor based on availability.\n"
   ]
  },
  {
   "cell_type": "code",
   "execution_count": 16,
   "id": "38d6508d",
   "metadata": {},
   "outputs": [
    {
     "data": {
      "text/plain": [
       "1"
      ]
     },
     "execution_count": 16,
     "metadata": {},
     "output_type": "execute_result"
    }
   ],
   "source": [
    "model.solve()\n"
   ]
  },
  {
   "cell_type": "markdown",
   "id": "0060672e",
   "metadata": {},
   "source": [
    "## Step 5: Solve the Optimization Model\n",
    "\n",
    "We use the built-in `.solve()` function to find the optimal solution for our decision variables.\n"
   ]
  },
  {
   "cell_type": "code",
   "execution_count": 17,
   "id": "572d2634",
   "metadata": {},
   "outputs": [
    {
     "name": "stdout",
     "output_type": "stream",
     "text": [
      "\n",
      "✅ Optimization Result:\n",
      "Status: Optimal\n",
      "A: 100.0\n",
      "B: 20.0\n",
      "C: 60.0\n",
      "Total Profit: 5800.0\n"
     ]
    }
   ],
   "source": [
    "print(\"\\n✅ Optimization Result:\")\n",
    "print(f\"Status: {LpStatus[model.status]}\")\n",
    "for p in products:\n",
    "    print(f\"{p}: {decision_vars[p].varValue}\")\n",
    "print(f\"Total Profit: {value(model.objective)}\")\n"
   ]
  },
  {
   "cell_type": "markdown",
   "id": "e1a92733",
   "metadata": {},
   "source": [
    "## Step 6: Display the Optimization Results\n",
    "\n",
    "We print the status of the solution, the number of units to produce for each product, and the total profit obtained.\n"
   ]
  },
  {
   "cell_type": "markdown",
   "id": "d46c8975",
   "metadata": {},
   "source": [
    "quantities = [decision_vars[p].varValue for p in products]\n",
    "plt.bar(products, quantities, color='skyblue')\n",
    "plt.title(\"Optimal Production Plan\")\n",
    "plt.xlabel(\"Product\")\n",
    "plt.ylabel(\"Units Produced\")\n",
    "plt.grid(axis='y')\n",
    "plt.tight_layout()\n",
    "plt.savefig(\"optimal_production_plan.png\")\n",
    "plt.show()\n"
   ]
  },
  {
   "cell_type": "markdown",
   "id": "d20bf0d4",
   "metadata": {},
   "source": [
    "## Step 7: Plot the Optimal Production Plan\n",
    "\n",
    "We create a bar chart showing the number of units to produce for each product. The chart is saved as an image file.\n"
   ]
  },
  {
   "cell_type": "code",
   "execution_count": 18,
   "id": "9a658ab8",
   "metadata": {},
   "outputs": [
    {
     "name": "stdout",
     "output_type": "stream",
     "text": [
      "\n",
      "🔍 Insights:\n",
      ". The model produced 100 units of Product A, 20 of B, and 60 of C.\n",
      ". Product A and C are likely more profitable or resource-efficient.\n",
      ". Product B is produced in low quantity, possibly due to higher resource use or lower profit.\n",
      ". Total profit is 5800 units under the given constraints (Material: 1000, Labor: 1200).\n",
      ". Resources are optimally allocated, and no constraint is violated.\n"
     ]
    }
   ],
   "source": [
    "print(\"\\n🔍 Insights:\")\n",
    "print(\". The model produced 100 units of Product A, 20 of B, and 60 of C.\")\n",
    "print(\". Product A and C are likely more profitable or resource-efficient.\")\n",
    "print(\". Product B is produced in low quantity, possibly due to higher resource use or lower profit.\")\n",
    "print(\". Total profit is 5800 units under the given constraints (Material: 1000, Labor: 1200).\")\n",
    "print(\". Resources are optimally allocated, and no constraint is violated.\")\n"
   ]
  },
  {
   "cell_type": "markdown",
   "id": "aa3f811b",
   "metadata": {},
   "source": [
    "## Step 8: Business Insights\n",
    "\n",
    "Based on the optimization results, we can draw the following business conclusions:\n",
    "\n",
    "- ✅ **Product A** and **Product C** are the most profitable or resource-efficient, as the model chose to produce **100 units of A** and **60 units of C**.\n",
    "- ⚠️ **Product B** is produced in **low quantity (20 units)**, suggesting it either has lower profit or consumes more resources compared to A and C.\n",
    "- 💰 The **total profit is 5800**, showing the maximum gain achievable under the given constraints.\n",
    "- 🔧 **Resource constraints** (Material = 1000, Labor = 1200) are fully utilized, meaning resources were **optimally allocated**.\n",
    "- 📈 The model ensures no constraint is violated, and all production quantities are within the maximum allowed limits.\n",
    "- 🧠 This insight helps management prioritize **Product A and C** for future planning, and possibly reconsider the role of Product B in the mix.\n"
   ]
  }
 ],
 "metadata": {
  "kernelspec": {
   "display_name": "Python 3",
   "language": "python",
   "name": "python3"
  },
  "language_info": {
   "codemirror_mode": {
    "name": "ipython",
    "version": 3
   },
   "file_extension": ".py",
   "mimetype": "text/x-python",
   "name": "python",
   "nbconvert_exporter": "python",
   "pygments_lexer": "ipython3",
   "version": "3.10.0"
  }
 },
 "nbformat": 4,
 "nbformat_minor": 5
}
